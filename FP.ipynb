{
 "cells": [
  {
   "cell_type": "code",
   "execution_count": 78,
   "metadata": {},
   "outputs": [
    {
     "data": {
      "text/html": [
       "<table class=\"data-frame\"><thead><tr><th></th><th>Column1</th><th>Ticker Symbol</th><th>Period Ending</th><th>Accounts Payable</th><th>Accounts Receivable</th><th>Add'l income/expense items</th><th>After Tax ROE</th><th>Capital Expenditures</th><th>Capital Surplus</th><th>Cash Ratio</th><th>Cash and Cash Equivalents</th><th>Changes in Inventories</th><th>Common Stocks</th><th>Cost of Revenue</th><th>Current Ratio</th><th>Deferred Asset Charges</th><th>Deferred Liability Charges</th><th>Depreciation</th><th>Earnings Before Interest and Tax</th><th>Earnings Before Tax</th><th>Effect of Exchange Rate</th><th>Equity Earnings/Loss Unconsolidated Subsidiary</th><th>Fixed Assets</th><th>Goodwill</th><th>Gross Margin</th><th>Gross Profit</th><th>Income Tax</th><th>Intangible Assets</th><th>Interest Expense</th><th>Inventory</th><th>Investments</th><th>Liabilities</th><th>Long-Term Debt</th><th>Long-Term Investments</th><th>Minority Interest</th><th>Misc. Stocks</th><th>Net Borrowings</th><th>Net Cash Flow</th><th>Net Cash Flow-Operating</th><th>Net Cash Flows-Financing</th><th>Net Cash Flows-Investing</th><th>Net Income</th><th>Net Income Adjustments</th><th>Net Income Applicable to Common Shareholders</th><th>Net Income-Cont. Operations</th><th>Net Receivables</th><th>Non-Recurring Items</th><th>Operating Income</th><th>Operating Margin</th><th>Other Assets</th><th>Other Current Assets</th><th>Other Current Liabilities</th><th>Other Equity</th><th>Other Financing Activities</th><th>Other Investing Activities</th><th>Other Liabilities</th><th>Other Operating Activities</th><th>Other Operating Items</th><th>Pre-Tax Margin</th><th>Pre-Tax ROE</th><th>Profit Margin</th><th>Quick Ratio</th><th>Research and Development</th><th>Retained Earnings</th><th>Sale and Purchase of Stock</th><th>Sales, General and Admin.</th><th>Short-Term Debt / Current Portion of Long-Term Debt</th><th>Short-Term Investments</th><th>Total Assets</th><th>Total Current Assets</th><th>Total Current Liabilities</th><th>Total Equity</th><th>Total Liabilities</th><th>Total Liabilities &amp; Equity</th><th>Total Revenue</th><th>Treasury Stock</th><th>Earnings Per Share</th><th>Estimated Shares Outstanding</th><th>Share price</th></tr><tr><th></th><th>Int64⍰</th><th>String⍰</th><th>String⍰</th><th>Int64⍰</th><th>Int64⍰</th><th>Int64⍰</th><th>Int64⍰</th><th>Int64⍰</th><th>Int64⍰</th><th>Int64⍰</th><th>Int64⍰</th><th>Int64⍰</th><th>Int64⍰</th><th>Float64⍰</th><th>Int64⍰</th><th>Int64⍰</th><th>Int64⍰</th><th>Int64⍰</th><th>Int64⍰</th><th>Int64⍰</th><th>Int64⍰</th><th>Int64⍰</th><th>Int64⍰</th><th>Int64⍰</th><th>Int64⍰</th><th>Int64⍰</th><th>Int64⍰</th><th>Int64⍰</th><th>Int64⍰</th><th>Int64⍰</th><th>Int64⍰</th><th>Int64⍰</th><th>Int64⍰</th><th>Float64⍰</th><th>Int64⍰</th><th>Int64⍰</th><th>Int64⍰</th><th>Int64⍰</th><th>Int64⍰</th><th>Int64⍰</th><th>Int64⍰</th><th>Int64⍰</th><th>Int64⍰</th><th>Int64⍰</th><th>Int64⍰</th><th>Int64⍰</th><th>Int64⍰</th><th>Int64⍰</th><th>Int64⍰</th><th>Int64⍰</th><th>Int64⍰</th><th>Int64⍰</th><th>Int64⍰</th><th>Int64⍰</th><th>Int64⍰</th><th>Int64⍰</th><th>Int64⍰</th><th>Int64⍰</th><th>Int64⍰</th><th>Int64⍰</th><th>Int64⍰</th><th>Int64⍰</th><th>Int64⍰</th><th>Float64⍰</th><th>Int64⍰</th><th>Int64⍰</th><th>Int64⍰</th><th>Int64⍰</th><th>Float64⍰</th><th>Int64⍰</th><th>Int64⍰</th><th>Float64⍰</th><th>Float64⍰</th><th>Float64⍰</th><th>Float64⍰</th><th>Int64⍰</th><th>Float64⍰</th><th>Int64⍰</th><th>Float64⍰</th></tr></thead><tbody><p>3 rows × 79 columns</p><tr><th>1</th><td>8</td><td>AAPL</td><td>28/09/13</td><td>36223000000</td><td>-1949000000</td><td>1156000000</td><td>30</td><td>-8165000000</td><td>0</td><td>93</td><td>14259000000</td><td>-973000000</td><td>19764000000</td><td>1.07e11</td><td>168</td><td>0</td><td>2625000000</td><td>6757000000</td><td>50155000000</td><td>50155000000</td><td>0</td><td>0</td><td>16597000000</td><td>1577000000</td><td>38</td><td>64304000000</td><td>13118000000</td><td>4179000000</td><td>0</td><td>1764000000</td><td>-24042000000</td><td>8320000000</td><td>16960000000</td><td>1.06e11</td><td>0</td><td>0</td><td>16896000000</td><td>3513000000</td><td>53666000000</td><td>-16379000000</td><td>-33774000000</td><td>37037000000</td><td>3394000000</td><td>37037000000</td><td>37037000000</td><td>24094000000</td><td>0</td><td>48999000000</td><td>29</td><td>5146000000</td><td>6882000000</td><td>7435000000</td><td>-471000000</td><td>-1082000000</td><td>-1567000000</td><td>20208000000</td><td>1080000000</td><td>0</td><td>29</td><td>41</td><td>22</td><td>164</td><td>4475000000</td><td>1.04e11</td><td>-22330000000</td><td>10830000000</td><td>0</td><td>26287000000</td><td>2.07e11</td><td>73286000000</td><td>43658000000</td><td>1.24e11</td><td>8.3451e10</td><td>2.07e11</td><td>1.71e11</td><td>0</td><td>40.03</td><td>9252310767</td><td>69.1114</td></tr><tr><th>2</th><td>9</td><td>AAPL</td><td>27/09/14</td><td>48649000000</td><td>-6452000000</td><td>980000000</td><td>35</td><td>-9571000000</td><td>0</td><td>40</td><td>13844000000</td><td>-76000000</td><td>23313000000</td><td>1.12e11</td><td>108</td><td>0</td><td>3031000000</td><td>7946000000</td><td>53483000000</td><td>53483000000</td><td>0</td><td>0</td><td>20624000000</td><td>4616000000</td><td>39</td><td>70537000000</td><td>13973000000</td><td>4142000000</td><td>0</td><td>2111000000</td><td>-9027000000</td><td>13408000000</td><td>28987000000</td><td>1.3e11</td><td>0</td><td>0</td><td>18266000000</td><td>-415000000</td><td>59713000000</td><td>-37549000000</td><td>-22579000000</td><td>39510000000</td><td>5210000000</td><td>39510000000</td><td>39510000000</td><td>31537000000</td><td>0</td><td>52503000000</td><td>29</td><td>3764000000</td><td>9806000000</td><td>8491000000</td><td>1082000000</td><td>-1158000000</td><td>-3981000000</td><td>24826000000</td><td>167000000</td><td>0</td><td>29</td><td>48</td><td>22</td><td>105</td><td>6041000000</td><td>8.7152e10</td><td>-44270000000</td><td>11993000000</td><td>6308000000</td><td>11233000000</td><td>2.32e11</td><td>68531000000</td><td>63448000000</td><td>1.12e11</td><td>1.2e11</td><td>2.32e11</td><td>1.83e11</td><td>0</td><td>6.49</td><td>6087827427</td><td>98.65</td></tr><tr><th>3</th><td>10</td><td>AAPL</td><td>26/09/15</td><td>60671000000</td><td>-3124000000</td><td>1285000000</td><td>45</td><td>-11247000000</td><td>0</td><td>52</td><td>21120000000</td><td>-238000000</td><td>27416000000</td><td>1.4e11</td><td>111</td><td>0</td><td>3624000000</td><td>11257000000</td><td>72515000000</td><td>72515000000</td><td>0</td><td>0</td><td>22471000000</td><td>5116000000</td><td>40</td><td>93626000000</td><td>19121000000</td><td>3893000000</td><td>0</td><td>2349000000</td><td>-44417000000</td><td>15188000000</td><td>53329000000</td><td>1.64e11</td><td>0</td><td>0</td><td>29305000000</td><td>7276000000</td><td>81266000000</td><td>-17716000000</td><td>-56274000000</td><td>53394000000</td><td>4968000000</td><td>53394000000</td><td>53394000000</td><td>30343000000</td><td>0</td><td>71230000000</td><td>30</td><td>5422000000</td><td>15085000000</td><td>8940000000</td><td>-345000000</td><td>-1499000000</td><td>-610000000</td><td>33427000000</td><td>-179000000</td><td>0</td><td>31</td><td>61</td><td>23</td><td>108</td><td>8067000000</td><td>9.2284e10</td><td>-34710000000</td><td>14329000000</td><td>10999000000</td><td>20481000000</td><td>2.9e11</td><td>89378000000</td><td>80610000000</td><td>1.19e11</td><td>1.71e11</td><td>2.9e11</td><td>2.34e11</td><td>0</td><td>9.28</td><td>5753663793</td><td>112.83</td></tr></tbody></table>"
      ],
      "text/latex": [
       "\\begin{tabular}{r|ccccccccccccccccccccccccccccccccccccccccccccccccccccccccccccccccccccccccccccccc}\n",
       "\t& Column1 & Ticker Symbol & Period Ending & Accounts Payable & Accounts Receivable & Add'l income/expense items & After Tax ROE & Capital Expenditures & Capital Surplus & Cash Ratio & Cash and Cash Equivalents & Changes in Inventories & Common Stocks & Cost of Revenue & Current Ratio & Deferred Asset Charges & Deferred Liability Charges & Depreciation & Earnings Before Interest and Tax & Earnings Before Tax & Effect of Exchange Rate & Equity Earnings/Loss Unconsolidated Subsidiary & Fixed Assets & Goodwill & Gross Margin & Gross Profit & Income Tax & Intangible Assets & Interest Expense & Inventory & Investments & Liabilities & Long-Term Debt & Long-Term Investments & Minority Interest & Misc. Stocks & Net Borrowings & Net Cash Flow & Net Cash Flow-Operating & Net Cash Flows-Financing & Net Cash Flows-Investing & Net Income & Net Income Adjustments & Net Income Applicable to Common Shareholders & Net Income-Cont. Operations & Net Receivables & Non-Recurring Items & Operating Income & Operating Margin & Other Assets & Other Current Assets & Other Current Liabilities & Other Equity & Other Financing Activities & Other Investing Activities & Other Liabilities & Other Operating Activities & Other Operating Items & Pre-Tax Margin & Pre-Tax ROE & Profit Margin & Quick Ratio & Research and Development & Retained Earnings & Sale and Purchase of Stock & Sales, General and Admin. & Short-Term Debt / Current Portion of Long-Term Debt & Short-Term Investments & Total Assets & Total Current Assets & Total Current Liabilities & Total Equity & Total Liabilities & Total Liabilities \\& Equity & Total Revenue & Treasury Stock & Earnings Per Share & Estimated Shares Outstanding & Share price\\\\\n",
       "\t\\hline\n",
       "\t& Int64⍰ & String⍰ & String⍰ & Int64⍰ & Int64⍰ & Int64⍰ & Int64⍰ & Int64⍰ & Int64⍰ & Int64⍰ & Int64⍰ & Int64⍰ & Int64⍰ & Float64⍰ & Int64⍰ & Int64⍰ & Int64⍰ & Int64⍰ & Int64⍰ & Int64⍰ & Int64⍰ & Int64⍰ & Int64⍰ & Int64⍰ & Int64⍰ & Int64⍰ & Int64⍰ & Int64⍰ & Int64⍰ & Int64⍰ & Int64⍰ & Int64⍰ & Int64⍰ & Float64⍰ & Int64⍰ & Int64⍰ & Int64⍰ & Int64⍰ & Int64⍰ & Int64⍰ & Int64⍰ & Int64⍰ & Int64⍰ & Int64⍰ & Int64⍰ & Int64⍰ & Int64⍰ & Int64⍰ & Int64⍰ & Int64⍰ & Int64⍰ & Int64⍰ & Int64⍰ & Int64⍰ & Int64⍰ & Int64⍰ & Int64⍰ & Int64⍰ & Int64⍰ & Int64⍰ & Int64⍰ & Int64⍰ & Int64⍰ & Float64⍰ & Int64⍰ & Int64⍰ & Int64⍰ & Int64⍰ & Float64⍰ & Int64⍰ & Int64⍰ & Float64⍰ & Float64⍰ & Float64⍰ & Float64⍰ & Int64⍰ & Float64⍰ & Int64⍰ & Float64⍰\\\\\n",
       "\t\\hline\n",
       "\t1 & 8 & AAPL & 28/09/13 & 36223000000 & -1949000000 & 1156000000 & 30 & -8165000000 & 0 & 93 & 14259000000 & -973000000 & 19764000000 & 1.07e11 & 168 & 0 & 2625000000 & 6757000000 & 50155000000 & 50155000000 & 0 & 0 & 16597000000 & 1577000000 & 38 & 64304000000 & 13118000000 & 4179000000 & 0 & 1764000000 & -24042000000 & 8320000000 & 16960000000 & 1.06e11 & 0 & 0 & 16896000000 & 3513000000 & 53666000000 & -16379000000 & -33774000000 & 37037000000 & 3394000000 & 37037000000 & 37037000000 & 24094000000 & 0 & 48999000000 & 29 & 5146000000 & 6882000000 & 7435000000 & -471000000 & -1082000000 & -1567000000 & 20208000000 & 1080000000 & 0 & 29 & 41 & 22 & 164 & 4475000000 & 1.04e11 & -22330000000 & 10830000000 & 0 & 26287000000 & 2.07e11 & 73286000000 & 43658000000 & 1.24e11 & 8.3451e10 & 2.07e11 & 1.71e11 & 0 & 40.03 & 9252310767 & 69.1114 \\\\\n",
       "\t2 & 9 & AAPL & 27/09/14 & 48649000000 & -6452000000 & 980000000 & 35 & -9571000000 & 0 & 40 & 13844000000 & -76000000 & 23313000000 & 1.12e11 & 108 & 0 & 3031000000 & 7946000000 & 53483000000 & 53483000000 & 0 & 0 & 20624000000 & 4616000000 & 39 & 70537000000 & 13973000000 & 4142000000 & 0 & 2111000000 & -9027000000 & 13408000000 & 28987000000 & 1.3e11 & 0 & 0 & 18266000000 & -415000000 & 59713000000 & -37549000000 & -22579000000 & 39510000000 & 5210000000 & 39510000000 & 39510000000 & 31537000000 & 0 & 52503000000 & 29 & 3764000000 & 9806000000 & 8491000000 & 1082000000 & -1158000000 & -3981000000 & 24826000000 & 167000000 & 0 & 29 & 48 & 22 & 105 & 6041000000 & 8.7152e10 & -44270000000 & 11993000000 & 6308000000 & 11233000000 & 2.32e11 & 68531000000 & 63448000000 & 1.12e11 & 1.2e11 & 2.32e11 & 1.83e11 & 0 & 6.49 & 6087827427 & 98.65 \\\\\n",
       "\t3 & 10 & AAPL & 26/09/15 & 60671000000 & -3124000000 & 1285000000 & 45 & -11247000000 & 0 & 52 & 21120000000 & -238000000 & 27416000000 & 1.4e11 & 111 & 0 & 3624000000 & 11257000000 & 72515000000 & 72515000000 & 0 & 0 & 22471000000 & 5116000000 & 40 & 93626000000 & 19121000000 & 3893000000 & 0 & 2349000000 & -44417000000 & 15188000000 & 53329000000 & 1.64e11 & 0 & 0 & 29305000000 & 7276000000 & 81266000000 & -17716000000 & -56274000000 & 53394000000 & 4968000000 & 53394000000 & 53394000000 & 30343000000 & 0 & 71230000000 & 30 & 5422000000 & 15085000000 & 8940000000 & -345000000 & -1499000000 & -610000000 & 33427000000 & -179000000 & 0 & 31 & 61 & 23 & 108 & 8067000000 & 9.2284e10 & -34710000000 & 14329000000 & 10999000000 & 20481000000 & 2.9e11 & 89378000000 & 80610000000 & 1.19e11 & 1.71e11 & 2.9e11 & 2.34e11 & 0 & 9.28 & 5753663793 & 112.83 \\\\\n",
       "\\end{tabular}\n"
      ],
      "text/plain": [
       "3×79 DataFrames.DataFrame. Omitted printing of 75 columns\n",
       "│ Row │ Column1 │ Ticker Symbol │ Period Ending │ Accounts Payable │\n",
       "│     │ \u001b[90mInt64⍰\u001b[39m  │ \u001b[90mString⍰\u001b[39m       │ \u001b[90mString⍰\u001b[39m       │ \u001b[90mInt64⍰\u001b[39m           │\n",
       "├─────┼─────────┼───────────────┼───────────────┼──────────────────┤\n",
       "│ 1   │ 8       │ AAPL          │ 28/09/13      │ 36223000000      │\n",
       "│ 2   │ 9       │ AAPL          │ 27/09/14      │ 48649000000      │\n",
       "│ 3   │ 10      │ AAPL          │ 26/09/15      │ 60671000000      │"
      ]
     },
     "execution_count": 78,
     "metadata": {},
     "output_type": "execute_result"
    }
   ],
   "source": [
    "using CSV\n",
    "\n",
    "raw = CSV.read(\"fundamentals copy.csv\");\n",
    "\n",
    "raw"
   ]
  },
  {
   "cell_type": "code",
   "execution_count": 79,
   "metadata": {},
   "outputs": [
    {
     "data": {
      "text/plain": [
       "74-element Array{Any,1}:\n",
       " Union{Missing, Int64}[36223000000, 48649000000, 60671000000] \n",
       " Union{Missing, Int64}[-1949000000, -6452000000, -3124000000] \n",
       " Union{Missing, Int64}[1156000000, 980000000, 1285000000]     \n",
       " Union{Missing, Int64}[30, 35, 45]                            \n",
       " Union{Missing, Int64}[-8165000000, -9571000000, -11247000000]\n",
       " Union{Missing, Int64}[0, 0, 0]                               \n",
       " Union{Missing, Int64}[93, 40, 52]                            \n",
       " Union{Missing, Int64}[14259000000, 13844000000, 21120000000] \n",
       " Union{Missing, Int64}[-973000000, -76000000, -238000000]     \n",
       " Union{Missing, Int64}[19764000000, 23313000000, 27416000000] \n",
       " Union{Missing, Float64}[1.07e11, 1.12e11, 1.4e11]            \n",
       " Union{Missing, Int64}[168, 108, 111]                         \n",
       " Union{Missing, Int64}[0, 0, 0]                               \n",
       " ⋮                                                            \n",
       " Union{Missing, Int64}[10830000000, 11993000000, 14329000000] \n",
       " Union{Missing, Int64}[0, 6308000000, 10999000000]            \n",
       " Union{Missing, Int64}[26287000000, 11233000000, 20481000000] \n",
       " Union{Missing, Float64}[2.07e11, 2.32e11, 2.9e11]            \n",
       " Union{Missing, Int64}[73286000000, 68531000000, 89378000000] \n",
       " Union{Missing, Int64}[43658000000, 63448000000, 80610000000] \n",
       " Union{Missing, Float64}[1.24e11, 1.12e11, 1.19e11]           \n",
       " Union{Missing, Float64}[8.3451e10, 1.2e11, 1.71e11]          \n",
       " Union{Missing, Float64}[2.07e11, 2.32e11, 2.9e11]            \n",
       " Union{Missing, Float64}[1.71e11, 1.83e11, 2.34e11]           \n",
       " Union{Missing, Int64}[0, 0, 0]                               \n",
       " Union{Missing, Float64}[40.03, 6.49, 9.28]                   "
      ]
     },
     "execution_count": 79,
     "metadata": {},
     "output_type": "execute_result"
    }
   ],
   "source": [
    "A = []\n",
    "\n",
    "for i in 4:77\n",
    "    push!(A, raw[:,i])\n",
    "end\n",
    "\n",
    "A"
   ]
  },
  {
   "cell_type": "code",
   "execution_count": 80,
   "metadata": {},
   "outputs": [],
   "source": [
    "B = zeros(length(A),length(A[1]))\n",
    "\n",
    "for i in 1:length(A)\n",
    "    for j in 1:length(A[i])\n",
    "        B[i,j] = A[i][j]\n",
    "    end\n",
    "end"
   ]
  },
  {
   "cell_type": "code",
   "execution_count": 81,
   "metadata": {},
   "outputs": [
    {
     "data": {
      "text/plain": [
       "3×74 LinearAlgebra.Adjoint{Float64,Array{Float64,2}}:\n",
       " 3.6223e10  -1.949e9  1.156e9  30.0  …  2.07e11  1.71e11  0.0  40.03\n",
       " 4.8649e10  -6.452e9  9.8e8    35.0     2.32e11  1.83e11  0.0   6.49\n",
       " 6.0671e10  -3.124e9  1.285e9  45.0     2.9e11   2.34e11  0.0   9.28"
      ]
     },
     "execution_count": 81,
     "metadata": {},
     "output_type": "execute_result"
    }
   ],
   "source": [
    "B = B'\n",
    "B"
   ]
  },
  {
   "cell_type": "code",
   "execution_count": 82,
   "metadata": {},
   "outputs": [
    {
     "data": {
      "text/plain": [
       "3-element Array{Float64,1}:\n",
       " 6.394404028380046e11\n",
       " 6.005641878492048e11\n",
       " 6.491858972715176e11"
      ]
     },
     "execution_count": 82,
     "metadata": {},
     "output_type": "execute_result"
    }
   ],
   "source": [
    "prices = raw[:79]\n",
    "shares = raw[:78]\n",
    "\n",
    "mkt_cap = prices.*shares\n",
    "y = mkt_cap"
   ]
  },
  {
   "cell_type": "code",
   "execution_count": 83,
   "metadata": {},
   "outputs": [
    {
     "data": {
      "text/plain": [
       "3-element Array{Union{Missing, Float64},1}:\n",
       "  69.11142729\n",
       "  98.650002  \n",
       " 112.830002  "
      ]
     },
     "execution_count": 83,
     "metadata": {},
     "output_type": "execute_result"
    }
   ],
   "source": [
    "prices"
   ]
  },
  {
   "cell_type": "code",
   "execution_count": 95,
   "metadata": {},
   "outputs": [
    {
     "ename": "ErrorException",
     "evalue": "error compiling constructvariable!: error compiling Type: error compiling addvar!: error compiling updatemodel!: could not load library \"libgurobi81.dylib\"\ndlopen(libgurobi81.dylib, 1): image not found",
     "output_type": "error",
     "traceback": [
      "error compiling constructvariable!: error compiling Type: error compiling addvar!: error compiling updatemodel!: could not load library \"libgurobi81.dylib\"\ndlopen(libgurobi81.dylib, 1): image not found",
      "",
      "Stacktrace:",
      " [1] top-level scope at /Users/ritik/.juliapro/JuliaPro_v1.0.3.1/packages/JuMP/PbnIJ/src/macros.jl:1259",
      " [2] top-level scope at In[95]:9"
     ]
    }
   ],
   "source": [
    "# NOTE: must have either Gurobi or Mosek installed!\n",
    "\n",
    "# Solve the LEAST SQUARES polynomial fit\n",
    "\n",
    "using JuMP, Mosek\n",
    "\n",
    "#m = Model(solver=ClpSolver())\n",
    "m = Model(solver=MosekSolver(LOG=0))\n",
    "#m = Model(solver=GurobiSolver(OutputFlag=0,BarHomogeneous=1))\n",
    "#m = Model(solver=GurobiSolver(OutputFlag=0,NumericFocus=3,BarHomogeneous=1))\n",
    "\n",
    "@variable(m, u[1:74])\n",
    "@objective(m, Min, sum( (y - B*u).^2 ) )\n",
    "\n",
    "status = solve(m)\n",
    "uopt = getvalue(u)\n",
    "println(status)\n",
    "println(getobjectivevalue(m))\n",
    "println(uopt)"
   ]
  },
  {
   "cell_type": "code",
   "execution_count": null,
   "metadata": {},
   "outputs": [],
   "source": []
  }
 ],
 "metadata": {
  "kernelspec": {
   "display_name": "Julia 1.0.3",
   "language": "julia",
   "name": "julia-1.0"
  },
  "language_info": {
   "file_extension": ".jl",
   "mimetype": "application/julia",
   "name": "julia",
   "version": "1.0.3"
  }
 },
 "nbformat": 4,
 "nbformat_minor": 2
}
